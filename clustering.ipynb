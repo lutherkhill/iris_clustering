{
  "nbformat": 4,
  "nbformat_minor": 0,
  "metadata": {
    "colab": {
      "name": "clustering.ipynb",
      "version": "0.3.2",
      "provenance": [],
      "toc_visible": true
    },
    "kernelspec": {
      "name": "python3",
      "display_name": "Python 3"
    }
  },
  "cells": [
    {
      "metadata": {
        "id": "yfmmCKSiuWUZ",
        "colab_type": "code",
        "colab": {}
      },
      "cell_type": "code",
      "source": [
        "#import dependencies\n",
        "import numpy as np\n",
        "from sklearn.cluster import MeanShift\n",
        "from sklearn.cluster import estimate_bandwidth\n",
        "from sklearn.datasets.samples_generator import make_blobs"
      ],
      "execution_count": 0,
      "outputs": []
    },
    {
      "metadata": {
        "id": "fOjWsKEguyZc",
        "colab_type": "code",
        "outputId": "72656734-345b-4ab1-c79a-0a6166008f78",
        "colab": {
          "base_uri": "https://localhost:8080/",
          "height": 197
        }
      },
      "cell_type": "code",
      "source": [
        "# Generate sample data\n",
        "centers = [[1, 1], [-1, -1], [1, -1]]\n",
        "x, _ = make_blobs(n_samples=1000, centers=centers, cluster_std=0.6)\n",
        "\n",
        "# Compute clustering with MeanShift\n",
        "bandwidth = estimate_bandwidth(x, quantile=0.2, n_samples=500)\n",
        "\n",
        "ms = MeanShift(bandwidth=bandwidth, bin_seeding=True)\n",
        "ms.fit(x)\n",
        "labels = ms.labels_\n",
        "cluster_centers = ms.cluster_centers_\n",
        "\n",
        "labels_unique = np.unique(labels)\n",
        "n_clusters_ = len(labels_unique)\n",
        "\n",
        "print(\"number of estimated clusters : %d\" % n_clusters)"
      ],
      "execution_count": 3,
      "outputs": [
        {
          "output_type": "error",
          "ename": "NameError",
          "evalue": "ignored",
          "traceback": [
            "\u001b[0;31m---------------------------------------------------------------------------\u001b[0m",
            "\u001b[0;31mNameError\u001b[0m                                 Traceback (most recent call last)",
            "\u001b[0;32m<ipython-input-3-03442a6c154a>\u001b[0m in \u001b[0;36m<module>\u001b[0;34m()\u001b[0m\n\u001b[1;32m     13\u001b[0m \u001b[0mn_clusters_\u001b[0m \u001b[0;34m=\u001b[0m \u001b[0mlen\u001b[0m\u001b[0;34m(\u001b[0m\u001b[0mlabels_unique\u001b[0m\u001b[0;34m)\u001b[0m\u001b[0;34m\u001b[0m\u001b[0;34m\u001b[0m\u001b[0m\n\u001b[1;32m     14\u001b[0m \u001b[0;34m\u001b[0m\u001b[0m\n\u001b[0;32m---> 15\u001b[0;31m \u001b[0mprint\u001b[0m\u001b[0;34m(\u001b[0m\u001b[0;34m\"number of estimated clusters : %d\"\u001b[0m \u001b[0;34m%\u001b[0m \u001b[0mn_clusters\u001b[0m\u001b[0;34m)\u001b[0m\u001b[0;34m\u001b[0m\u001b[0;34m\u001b[0m\u001b[0m\n\u001b[0m",
            "\u001b[0;31mNameError\u001b[0m: name 'n_clusters' is not defined"
          ]
        }
      ]
    },
    {
      "metadata": {
        "id": "d59Kbssi0BGy",
        "colab_type": "code",
        "colab": {}
      },
      "cell_type": "code",
      "source": [
        "# Plot result\n",
        "%matplotlib inline\n",
        "import matplotlib.pyplot as plt\n",
        "from itertools import cycle\n",
        "\n",
        "plt.figure(1)\n",
        "plt.clf()\n",
        "\n",
        "colors = cycle('bgrcmykbrgrcmykbrgrcmyk')\n",
        "for k, col in zip(range(n_clusters_), colors):\n",
        "  my_memebers = labels == k\n",
        "  cluster_center = cluster_centers[k]\n",
        "  plt.plot(x[my_members, 0], x[my_members, 1], col + '.')\n",
        "  plt.plot(cluster_center[0], cluster_center[1], 'o', markerfacecolor=col, markeredgecolor= 'k', markersize=14)\n",
        "  plt.title(\"Estimated number of clusters: %d\" % n_clusters_)\n",
        "  plt.show()"
      ],
      "execution_count": 0,
      "outputs": []
    },
    {
      "metadata": {
        "id": "64dh-gbR0Wq3",
        "colab_type": "code",
        "colab": {}
      },
      "cell_type": "code",
      "source": [
        "## Silhouette evaluation\n",
        "from sklearn import metrics\n",
        "kmeans_model = KMeans(n_clusters=3, random_state=1).fit(x)\n",
        "labels = kmeans_mode.labels_\n",
        "metrics.silhoutte_score(x, labels, metric='euclidean')\n"
      ],
      "execution_count": 0,
      "outputs": []
    },
    {
      "metadata": {
        "id": "8Yve7mfS3gyX",
        "colab_type": "code",
        "colab": {}
      },
      "cell_type": "code",
      "source": [
        "# https://sc\n",
        "\n",
        "from mpl_toolkits.mplot3d import Axes3d\n",
        "from sklearn.cluster import KMeans\n",
        "from sklearn import datasets"
      ],
      "execution_count": 0,
      "outputs": []
    },
    {
      "metadata": {
        "id": "2LqTmSpO3-sR",
        "colab_type": "code",
        "colab": {}
      },
      "cell_type": "code",
      "source": [
        "np.random.seed(5)\n",
        "\n",
        "centers = [[2, 2], [-1, -1], [1, -1]]\n",
        "iris = datasets.load_iris()\n",
        "x = iris.data\n",
        "y = iris.target\n",
        "\n",
        "estimators = {'k_means_iris_3' : KMeans(n_clusters=3),\n",
        "              'k_means_iris_8' : KMeans(n_clusters=8),\n",
        "              'k_means_iris_bad_init' : KMeans(n_clusters=3, n_init=1, init='random')}\n",
        "\n",
        "fignum = 1\n",
        "for name, est in estimators.items():\n",
        "  fig = plt.figure(fignum, figsize=(4, 3))\n",
        "  plt.clf()\n",
        "  ax = Axes3D(fig, rect=[0, 0, .95, 1], elev=48, azim=134)\n",
        "  \n",
        "  plt.cla()\n",
        "  est.fit(x)\n",
        "  labels = est.labels_\n",
        "  \n",
        "  ax.scatter(x[:, 3], x[:, 0], x[:, 2], c=labels.astype(np.float))\n",
        "  \n",
        "  ax.w_xaxis.set_ticklabels([])\n",
        "  ax.w_yaxis.set_ticklabels([])\n",
        "  ax.w_zaxis.set_ticklabels([])\n",
        "  ax.set_xlabel('Petal width')\n",
        "  ax.set_ylabel('Septal length')\n",
        "  ax.set_zlabel('Petal length')\n",
        "  fignum = fignum +1\n",
        "  \n",
        " "
      ],
      "execution_count": 0,
      "outputs": []
    },
    {
      "metadata": {
        "id": "BHJSUFbo729j",
        "colab_type": "code",
        "colab": {}
      },
      "cell_type": "code",
      "source": [
        "# Plot the ground truth\n",
        "fig = plt.figure(fignum, figsize=(4, 3))\n",
        "plt.clf()\n",
        "ax = Axes3D(fig, rect=[0, 0, .95, 1], elev=48, azim=134)\n",
        "\n",
        "plt.cla()\n",
        "\n",
        "for name, label in [('Setosa', 0),\n",
        "                    ('Versicolour', 1),\n",
        "                    ('Virginica', 2)]:\n",
        "  ax.text3D(x[y == label, 3].mean(),\n",
        "            x[y == label, 0].mean() 1.5,\n",
        "            x[y == label, 2].mean(), name,\n",
        "            horizontalalingment = 'center',\n",
        "            bbox=dict(alpha= .5, edgecolor ='w', facecolor='w'))"
      ],
      "execution_count": 0,
      "outputs": []
    },
    {
      "metadata": {
        "id": "ebIn-wXN-H7h",
        "colab_type": "code",
        "colab": {}
      },
      "cell_type": "code",
      "source": [
        "# Reorder the labels to have colors matching the cluster results\n",
        "y = np.choose(y, [1, 2, 0].astype(np.float))\n",
        "ax.scatter(x[:, 3], x[:, 0], x[:, 2], c=y)\n",
        "\n",
        "ax.w_xaxis.set_ticklabels([])\n",
        "ax.w_yaxis.set_ticklabels([])\n",
        "ax.w_zaxis.set_ticklabels([])\n",
        "ax.set_xlabel('Petal width')\n",
        "ax.set_ylabel('Septal length')\n",
        "ax.set_zlabel('Petal length')\n",
        "plt.show()"
      ],
      "execution_count": 0,
      "outputs": []
    },
    {
      "metadata": {
        "id": "OOEk0F9WzYnY",
        "colab_type": "text"
      },
      "cell_type": "markdown",
      "source": [
        "# New Section"
      ]
    },
    {
      "metadata": {
        "id": "-N3QpTzryMt8",
        "colab_type": "code",
        "colab": {}
      },
      "cell_type": "code",
      "source": [
        ""
      ],
      "execution_count": 0,
      "outputs": []
    }
  ]
}